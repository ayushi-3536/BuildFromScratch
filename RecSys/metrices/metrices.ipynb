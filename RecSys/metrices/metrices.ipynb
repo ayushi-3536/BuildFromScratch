{
 "cells": [
  {
   "cell_type": "markdown",
   "metadata": {},
   "source": [
    "MRR is a key evaluation metric in information retrieval (IR) and search ranking. It measures how early the first relevant document appears in search results."
   ]
  },
  {
   "cell_type": "code",
   "execution_count": 9,
   "metadata": {},
   "outputs": [
    {
     "name": "stdout",
     "output_type": "stream",
     "text": [
      "[[0, 1, 0, 1, 0], [1, 0, 0, 0, 1], [0, 0, 0, 1, 0]]\n",
      "MRR: 0.5833333333333334\n"
     ]
    }
   ],
   "source": [
    "import numpy as np\n",
    "def mean_reciprocal_ranking(ranked_docs: list) -> float:\n",
    "    print(ranked_docs)\n",
    "    array = np.array(ranked_docs)\n",
    "    first_rel_rank = np.argmax(array, axis=1)\n",
    "    reciprocal_rank = 1 / (first_rel_rank + 1)\n",
    "    mean_reciprocal_ranking = np.mean(reciprocal_rank)\n",
    "    return mean_reciprocal_ranking\n",
    "\n",
    "ranked_lists = [\n",
    "    [0, 1, 0, 1, 0],  # First relevant doc at rank 2\n",
    "    [1, 0, 0, 0, 1],  # First relevant doc at rank 1\n",
    "    [0, 0, 0, 1, 0]   # First relevant doc at rank 4\n",
    "]\n",
    "\n",
    "print(\"MRR:\", mean_reciprocal_ranking(ranked_lists))  # Output: 0.583"
   ]
  }
 ],
 "metadata": {
  "kernelspec": {
   "display_name": "myenv",
   "language": "python",
   "name": "python3"
  },
  "language_info": {
   "codemirror_mode": {
    "name": "ipython",
    "version": 3
   },
   "file_extension": ".py",
   "mimetype": "text/x-python",
   "name": "python",
   "nbconvert_exporter": "python",
   "pygments_lexer": "ipython3",
   "version": "3.10.16"
  }
 },
 "nbformat": 4,
 "nbformat_minor": 2
}
